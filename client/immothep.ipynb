{
 "metadata": {
  "language_info": {
   "codemirror_mode": {
    "name": "ipython",
    "version": 3
   },
   "file_extension": ".py",
   "mimetype": "text/x-python",
   "name": "python",
   "nbconvert_exporter": "python",
   "pygments_lexer": "ipython3",
   "version": "3.7.9-final"
  },
  "orig_nbformat": 2,
  "kernelspec": {
   "name": "Python 3.7.9 64-bit ('Immothep': conda)",
   "display_name": "Python 3.7.9 64-bit ('Immothep': conda)",
   "metadata": {
    "interpreter": {
     "hash": "e23950344c2a0a328c0fcc8ab723357c9a53bd93bcbd0101baa32fa2fa15de81"
    }
   }
  }
 },
 "nbformat": 4,
 "nbformat_minor": 2,
 "cells": [
  {
   "cell_type": "code",
   "execution_count": 2,
   "metadata": {},
   "outputs": [],
   "source": [
    "import requests"
   ]
  },
  {
   "cell_type": "code",
   "execution_count": 6,
   "metadata": {},
   "outputs": [],
   "source": [
    "metre_carre = 100\n",
    "nb_pieces = 5\n",
    "terrain = 200\n",
    "code_postal = 63100"
   ]
  },
  {
   "cell_type": "code",
   "execution_count": 9,
   "metadata": {},
   "outputs": [],
   "source": [
    "request = requests.get(f'http://localhost:5003/api/estimate/?metre_carre={metre_carre}&nb_pieces={nb_pieces}&terrain={terrain}&code_postal={code_postal}')\n"
   ]
  },
  {
   "cell_type": "code",
   "execution_count": 10,
   "metadata": {},
   "outputs": [
    {
     "output_type": "execute_result",
     "data": {
      "text/plain": "&#39;{&quot;metre_carre&quot;:100,&quot;nb_pieces&quot;:5,&quot;terrain&quot;:200,&quot;code_postal&quot;:63100,&quot;estimation&quot;:305}&#39;"
     },
     "metadata": {},
     "execution_count": 10
    }
   ],
   "source": [
    "request.text"
   ]
  },
  {
   "cell_type": "code",
   "execution_count": null,
   "metadata": {},
   "outputs": [],
   "source": []
  }
 ]
}