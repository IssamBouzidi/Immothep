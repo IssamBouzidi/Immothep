{
 "metadata": {
  "language_info": {
   "codemirror_mode": {
    "name": "ipython",
    "version": 3
   },
   "file_extension": ".py",
   "mimetype": "text/x-python",
   "name": "python",
   "nbconvert_exporter": "python",
   "pygments_lexer": "ipython3",
   "version": "3.7.6-final"
  },
  "orig_nbformat": 2,
  "kernelspec": {
   "name": "Python 3.7.6 64-bit ('base': conda)",
   "display_name": "Python 3.7.6 64-bit ('base': conda)",
   "metadata": {
    "interpreter": {
     "hash": "b3ba2566441a7c06988d0923437866b63cedc61552a5af99d1f4fb67d367b25f"
    }
   }
  }
 },
 "nbformat": 4,
 "nbformat_minor": 2,
 "cells": [
  {
   "source": [
    "Referential analysis"
   ],
   "cell_type": "markdown",
   "metadata": {}
  },
  {
   "cell_type": "code",
   "execution_count": 1,
   "metadata": {
    "tags": []
   },
   "outputs": [],
   "source": [
    "import os\n",
    "import pandas as pd\n",
    "import matplotlib.pyplot as plt\n",
    "from pandas_profiling import ProfileReport\n",
    "from sklearn.preprocessing import LabelEncoder\n",
    "#import IPython\n"
   ]
  },
  {
   "cell_type": "code",
   "execution_count": 2,
   "metadata": {},
   "outputs": [],
   "source": [
    "DATA_IN_FOLDER = 'C:/prairie/projet8/data/in/'\n",
    "DATA_CLEANED_FOLDER = 'C:/prairie/projet8/data/cleaned/'\n",
    "DATA_OUT_FOLDER = 'C:/prairie/projet8/data/out/'"
   ]
  },
  {
   "cell_type": "code",
   "execution_count": 3,
   "metadata": {},
   "outputs": [],
   "source": [
    "#load data\n",
    "global_data = pd.read_csv(os.path.join(DATA_IN_FOLDER, 'valeursfoncieres-2019.txt'), encoding='utf-8', sep='|', decimal=',')\n"
   ]
  },
  {
   "cell_type": "code",
   "execution_count": 4,
   "metadata": {
    "tags": []
   },
   "outputs": [
    {
     "output_type": "stream",
     "name": "stdout",
     "text": [
      "                                count           mean           std      min  \\\n",
      "Code service CH                   0.0            NaN           NaN      NaN   \n",
      "Reference document                0.0            NaN           NaN      NaN   \n",
      "1 Articles CGI                    0.0            NaN           NaN      NaN   \n",
      "2 Articles CGI                    0.0            NaN           NaN      NaN   \n",
      "3 Articles CGI                    0.0            NaN           NaN      NaN   \n",
      "4 Articles CGI                    0.0            NaN           NaN      NaN   \n",
      "5 Articles CGI                    0.0            NaN           NaN      NaN   \n",
      "No disposition              2535791.0       1.199535  7.401537e+00     1.00   \n",
      "Valeur fonciere             2506530.0  971597.040251  7.856914e+06     0.01   \n",
      "No voie                     1510153.0     727.027501  2.076794e+03     1.00   \n",
      "Code postal                 2507468.0   51976.369473  2.730261e+04  1000.00   \n",
      "Code commune                2535791.0     208.996930  1.670737e+02     1.00   \n",
      "Prefixe de section           126835.0     459.484574  3.260987e+02     1.00   \n",
      "No plan                     2535791.0     403.790847  5.546664e+02     1.00   \n",
      "Surface Carrez du 1er lot    221065.0      60.976915  9.191766e+01     0.14   \n",
      "Surface Carrez du 2eme lot    54274.0      63.399269  5.886704e+01     0.13   \n",
      "Surface Carrez du 3eme lot     5214.0      73.177908  9.046654e+01     0.85   \n",
      "4eme lot                       9236.0     113.200195  5.230737e+02     2.00   \n",
      "Surface Carrez du 4eme lot     1415.0      86.964148  1.462351e+02     1.00   \n",
      "5eme lot                       4427.0     113.961373  4.529716e+02     2.00   \n",
      "Surface Carrez du 5eme lot      609.0      94.380181  1.132562e+02     0.89   \n",
      "Nombre de lots              2535791.0       0.394333  8.086631e-01     0.00   \n",
      "Code type local             1353332.0       1.989685  9.438622e-01     1.00   \n",
      "Identifiant local                 0.0            NaN           NaN      NaN   \n",
      "Surface reelle bati         1351615.0      87.756540  8.728312e+02     0.00   \n",
      "Nombre pieces principales   1351615.0       2.430351  2.083948e+00     0.00   \n",
      "Surface terrain             1742833.0    3092.532778  1.364341e+04     0.00   \n",
      "\n",
      "                                  25%       50%          75%           max  \n",
      "Code service CH                   NaN       NaN          NaN           NaN  \n",
      "Reference document                NaN       NaN          NaN           NaN  \n",
      "1 Articles CGI                    NaN       NaN          NaN           NaN  \n",
      "2 Articles CGI                    NaN       NaN          NaN           NaN  \n",
      "3 Articles CGI                    NaN       NaN          NaN           NaN  \n",
      "4 Articles CGI                    NaN       NaN          NaN           NaN  \n",
      "5 Articles CGI                    NaN       NaN          NaN           NaN  \n",
      "No disposition                  1.000       1.0       1.0000  6.940000e+02  \n",
      "Valeur fonciere             60000.000  149000.0  269000.0000  2.086000e+09  \n",
      "No voie                         8.000      24.0      87.0000  9.999000e+03  \n",
      "Code postal                 31230.000   50200.0   77144.0000  9.749000e+04  \n",
      "Code commune                   76.000     174.0     300.0000  9.090000e+02  \n",
      "Prefixe de section            166.000     331.0     829.0000  9.500000e+02  \n",
      "No plan                        87.000     223.0     504.0000  9.762000e+03  \n",
      "Surface Carrez du 1er lot      33.700      52.9      72.6700  9.646200e+03  \n",
      "Surface Carrez du 2eme lot     42.750      60.6      76.0400  8.630000e+03  \n",
      "Surface Carrez du 3eme lot     38.105      60.6      85.1875  3.583640e+03  \n",
      "4eme lot                        7.000      24.0      68.0000  1.701400e+04  \n",
      "Surface Carrez du 4eme lot     30.510      61.9     100.2750  3.208900e+03  \n",
      "5eme lot                        8.000      27.0      73.0000  1.104600e+04  \n",
      "Surface Carrez du 5eme lot     23.790      65.0     116.1000  1.029550e+03  \n",
      "Nombre de lots                  0.000       0.0       1.0000  1.750000e+02  \n",
      "Code type local                 1.000       2.0       3.0000  4.000000e+00  \n",
      "Identifiant local                 NaN       NaN          NaN           NaN  \n",
      "Surface reelle bati            15.000      60.0      94.0000  3.129620e+05  \n",
      "Nombre pieces principales       0.000       3.0       4.0000  6.700000e+01  \n",
      "Surface terrain               233.000     610.0    1885.0000  1.662560e+06  \n",
      "Nb records 2535791\n",
      "Nb columns 43\n",
      "Data types [dtype('float64') dtype('int64') dtype('O')]\n",
      "Nb empty columns 8\n"
     ]
    }
   ],
   "source": [
    "#basic stats about data\n",
    "print(global_data.describe().transpose())\n",
    "# Check the number of data points in the data set\n",
    "print(f'Nb records {len(global_data)}')\n",
    "# Check the number of features in the data set\n",
    "print(f'Nb columns {len(global_data.columns)}')\n",
    "# Check the data types\n",
    "print(f'Data types {global_data.dtypes.unique()}')\n",
    "\n",
    "#count empty columns\n",
    "tmp_data = global_data.dropna(axis = 1, how ='all') \n",
    "print(f'Nb empty columns {len(global_data.columns) - len(tmp_data.columns)}')\n",
    "del(tmp_data)\n",
    "\n",
    "#deep analysis\n",
    "profil = ProfileReport(global_data)\n",
    "#profil.to_file(output_file='rapport.html')\n",
    "del(profil)"
   ]
  },
  {
   "cell_type": "code",
   "execution_count": 5,
   "metadata": {
    "tags": []
   },
   "outputs": [
    {
     "output_type": "stream",
     "name": "stdout",
     "text": [
      "New number of column 35/43\n",
      "New number of row 2439667/2535791\n"
     ]
    }
   ],
   "source": [
    "#clean up data - remove empty columns\n",
    "cleared_data = global_data.dropna(axis = 1, how ='all') \n",
    "print(f'New number of column {len(cleared_data.columns)}/{len(global_data.columns)}')\n",
    "\n",
    "#remove duplicates rows\n",
    "cleared_data.drop_duplicates(inplace=True)\n",
    "print(f'New number of row {len(cleared_data)}/{len(global_data)}')\n"
   ]
  },
  {
   "cell_type": "code",
   "execution_count": 6,
   "metadata": {
    "tags": []
   },
   "outputs": [],
   "source": [
    "#create property referential\n",
    "global_property_type = cleared_data[['Code type local','Type local']]\n",
    "global_property_type.drop_duplicates(inplace=True)\n",
    "global_property_type.dropna(inplace=True)\n",
    "\n",
    "#add 'Autre' property type\n",
    "global_property_type.loc[len(global_property_type)] = [len(global_property_type)+1,'Autre']\n",
    "\n",
    "global_property_type.sort_values(by=['Code type local'], inplace=True)\n",
    "global_property_type.set_index('Code type local')\n",
    "global_property_type.to_csv(os.path.join(DATA_OUT_FOLDER, 'property_type_referential.csv'), index=False)\n",
    "#cleared_data.drop(columns='Type local', inplace=True, errors='ignore')"
   ]
  },
  {
   "cell_type": "code",
   "execution_count": 7,
   "metadata": {
    "tags": []
   },
   "outputs": [
    {
     "output_type": "stream",
     "name": "stdout",
     "text": [
      "New number of column 11/43\nNew number of records 2412834/2535791\n"
     ]
    }
   ],
   "source": [
    "#drop unused columns\n",
    "cleared_data.drop(columns=['No disposition','Date mutation','No voie','B/T/Q','Type de voie','Code voie','Voie','Prefixe de section','Section','No plan','No Volume','1er lot','Surface Carrez du 1er lot','2eme lot','Surface Carrez du 2eme lot','3eme lot','Surface Carrez du 3eme lot','4eme lot','Surface Carrez du 4eme lot','5eme lot','Surface Carrez du 5eme lot','Nombre de lots','Commune', 'Type local'], inplace=True, errors='ignore')\n",
    "#,'Code Canton','Code Arrondissement','Code Département','Code Région'\n",
    "\n",
    "#drop rows with empty sales costs\n",
    "cleared_data.dropna(subset = ['Valeur fonciere'], inplace = True) \n",
    "\n",
    "print(f'New number of column {len(cleared_data.columns)}/{len(global_data.columns)}')\n",
    "print(f'New number of records {len(cleared_data)}/{len(global_data)}')"
   ]
  },
  {
   "cell_type": "code",
   "execution_count": 8,
   "metadata": {
    "tags": []
   },
   "outputs": [
    {
     "output_type": "stream",
     "name": "stdout",
     "text": [
      "Number of Postal Code with NaN value before: 28157\n",
      "Number of Postal Code with NaN value after: 0\n"
     ]
    }
   ],
   "source": [
    "#load insee referential\n",
    "cp = pd.read_csv(os.path.join(DATA_IN_FOLDER, 'correspondance-code-insee-code-postal.csv'), encoding='utf-8', sep=';', usecols=['Code Commune', 'Code Département', 'Code Postal'])\n",
    "\n",
    "counter = cleared_data['Code postal'].isnull().sum()\n",
    "print(f'Number of Postal Code with NaN value before: {counter}')\n",
    "\n",
    "cleared_data['Code postal'] = cleared_data.apply(lambda x: cp[(cp['Code Commune']==x['Code commune']) & (cp['Code Département']==str(x['Code departement']))]['Code Postal'] if pd.isna(x['Code postal']) else x['Code postal'], axis=1)\n",
    "\n",
    "counter = cleared_data['Code postal'].isnull().sum()\n",
    "print(f'Number of Postal Code with NaN value after: {counter}')\n",
    "\n",
    "cleared_data.drop(columns=['Code commune', 'Code departement'], inplace= True, errors='ignore')\n",
    "del(cp)\n",
    "del(counter)"
   ]
  },
  {
   "cell_type": "code",
   "execution_count": 9,
   "metadata": {
    "tags": []
   },
   "outputs": [
    {
     "output_type": "stream",
     "name": "stdout",
     "text": [
      "Cleaned rows : 169043\n",
      "0          2\n",
      "1          2\n",
      "2          3\n",
      "3          1\n",
      "4          1\n",
      "          ..\n",
      "2535785    2\n",
      "2535786    2\n",
      "2535788    2\n",
      "2535789    4\n",
      "2535790    2\n",
      "Name: Code type local, Length: 2243791, dtype: object\n"
     ]
    }
   ],
   "source": [
    "#Clear data without transaction type\n",
    "counter = len(cleared_data)\n",
    "cleared_data.drop(cleared_data[(pd.isna(cleared_data['Code type local'])) & (pd.isna(cleared_data['Nature culture']))].index, inplace=True)\n",
    "print(f'Cleaned rows : {counter - len(cleared_data)}')\n",
    "\n",
    "#set 'Autre' value to empty 'Code type local'\n",
    "other_type = global_property_type[global_property_type['Type local'] == 'Autre']['Code type local']\n",
    "#cleared_data['Code type local'] = cleared_data['Code type local'].replace(pd.NA, 0)\n",
    "\n",
    "cleared_data['Code type local'] = cleared_data.apply(lambda x: other_type if pd.isna(x['Code type local']) else x['Code type local'], axis=1)\n",
    "\n",
    "print(cleared_data['Code type local'])"
   ]
  },
  {
   "cell_type": "code",
   "execution_count": 10,
   "metadata": {},
   "outputs": [],
   "source": [
    "'''\n",
    "#encode 'Nature culture' to number and create a referential for re-use in prediction tool\n",
    "global_culture_type = cleared_data['Nature culture']\n",
    "global_culture_type.drop_duplicates(inplace=True)\n",
    "global_culture_type.dropna(inplace=True)\n",
    "global_culture_type = global_culture_type.append(pd.Series(['NONE']))\n",
    "global_culture_type.reset_index(drop=True, inplace=True)\n",
    "label_encoder = LabelEncoder()\n",
    "integer_encoded = label_encoder.fit_transform(global_culture_type)\n",
    "global_culture_type = pd.concat([global_culture_type, pd.Series(integer_encoded.reshape(-1))], axis=1)\n",
    "global_culture_type = global_culture_type.rename(columns={0: \"Nature culture\", 1: \"Nature culture encoded\"})\n",
    "\n",
    "#global_culture_type.set_index('Nature culture', inplace=True)\n",
    "#global_culture_type.to_csv(os.path.join(DATA_OUT_FOLDER, 'culture_type_referential.csv'), sep=';', index=False)\n",
    "#cleared_data['Nature culture'] = cleared_data['Nature culture'].replace('NaN', 'NONE')\n",
    "#cleared_data['Nature culture'].fillna('NONE', inplace=True)\n",
    "\n",
    "value = cleared_data.merge(global_culture_type, how='left', on='Nature culture')\n",
    "\n",
    "\n",
    "#merge\n",
    "#value = cleared_data.merge(global_culture_type, on='Nature culture', how='left')\n",
    "value.to_csv(os.path.join(DATA_OUT_FOLDER, 'toto.csv'), sep=';', index=False)\n",
    "\n",
    "print(value)\n",
    "#print(cleared_data)\n",
    "#cleared_data.to_csv(os.path.join(DATA_OUT_FOLDER, 'toto.csv'), sep=';', index=False)\n",
    "#cleared_data['Nature culture encoded'] = cleared_data.apply(lambda x: global_culture_type[global_culture_type['Nature culture']==x['Nature culture']]['Nature culture encoded'], axis=1)\n",
    "#print(cleared_data.head())\n",
    "'''\n",
    "\n",
    "cleared_data.drop(columns=['Nature culture', 'Nature culture speciale'], inplace=True, errors='ignore')\n"
   ]
  },
  {
   "cell_type": "code",
   "execution_count": 16,
   "metadata": {},
   "outputs": [],
   "source": [
    "\n",
    "cleared_data[['Surface reelle bati','Nombre pieces principales', 'Surface terrain']] = cleared_data[['Surface reelle bati','Nombre pieces principales', 'Surface terrain']].fillna(0)\n"
   ]
  },
  {
   "cell_type": "code",
   "execution_count": 12,
   "metadata": {
    "tags": []
   },
   "outputs": [
    {
     "output_type": "stream",
     "name": "stderr",
     "text": [
      "Summarize dataset: 100%|██████████| 22/22 [01:14<00:00,  3.38s/it, Completed]\n",
      "Generate report structure: 100%|██████████| 1/1 [00:08<00:00,  8.30s/it]\n",
      "Render HTML: 100%|██████████| 1/1 [00:01<00:00,  1.95s/it]\n",
      "Export report to file: 100%|██████████| 1/1 [00:00<00:00, 30.32it/s]\n"
     ]
    }
   ],
   "source": [
    "#deep analysis\n",
    "profil = ProfileReport(cleared_data)\n",
    "profil.to_file(output_file='rapport_final.html')\n",
    "cleared_data.to_csv(os.path.join(DATA_CLEANED_FOLDER, 'cleaned_valeursfoncieres.csv'), sep=';')\n",
    "del(profil)"
   ]
  },
  {
   "cell_type": "code",
   "execution_count": 13,
   "metadata": {},
   "outputs": [],
   "source": []
  },
  {
   "cell_type": "code",
   "execution_count": null,
   "metadata": {},
   "outputs": [],
   "source": []
  }
 ]
}